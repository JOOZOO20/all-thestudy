{
  "cells": [
    {
      "cell_type": "markdown",
      "metadata": {
        "id": "SeKfuZENTcXO"
      },
      "source": [
        "# 예제 3-20\n",
        "구간 $[c,d]$ 위에서 정의된 연속함수 $f(x)$, $g(x)$로 이루어진 벡터공간 $V$가 다음과 같은 내적이 정의된 내적공간임을 보여라.\n",
        "$$\n",
        "  <f,g> = \\int_{c}^{d} f(x)g(x)dx\n",
        "$$"
      ]
    },
    {
      "cell_type": "markdown",
      "metadata": {
        "id": "hUELHtoeUFVV"
      },
      "source": [
        "# 예제 3-26\n",
        "다변수함수 $f(x,y,z) = x^{2} - y^{2} + z^{3}$의 헤시안 행렬 $H(f)$를 구하라."
      ]
    },
    {
      "cell_type": "markdown",
      "metadata": {
        "id": "nuxUT9FpUfxD"
      },
      "source": [
        "# 연습문제\n",
        "## 2.11\n",
        "### (b) 다음 연립선형방정식에 대해 (i) $\\sim$ (iii)의 답을 구하라.\n",
        "$\n",
        "\\begin{cases}\n",
        "  & 3x_{1} &+ &6x_{2}&-&3x_{3} &= -3 \\\\\n",
        "  & x_{1} &- &x_{2} & & &= 3 \\\\\n",
        "  &-2x_{1} & & &+& x_{3} &= -5\n",
        "\\end{cases}\n",
        "$\n",
        "- (i) 계수행렬을 이용하여 $A\\mathbf{x}= \\mathbf{b}$의 형태로 표현하라.\n",
        "- (ii) 가우스-조르당 소거법을 이용하여 연립선형방정식의 해를 구하라.\n",
        "- (iii) 가우스-조르당 소거법을 이용하여 역행렬을 구하라.\n",
        "\n",
        "## 3.6\n",
        "벡터공간 $\\mathbb{R}^{3}$의 세 벡터 $\\mathbf{x}_{1}=(1,2,0)$, $\\mathbf{x}_{2} = (0,2,4)$, $\\mathbf{x}_{3}=(3,14,16)$에 대하여 $H$를 $H=\\mbox{span}\\{\\mathbf{x}_{1}, \\mathbf{x}_{2}, \\mathbf{x}_{3}\\}$라고 할 때, 부분공간 $H$의 기저를 구하라.\n",
        "\n",
        "## 3.7\n",
        "두 벡터 $\\mathbb{x}=(1,2,3)$과 $\\mathbb{y}=(2, -2, 1)$에 대해, $\\mathbb{x}$의 $\\mathbb{y}$ 위로의 정사영 $\\mbox{proj}_{\\mathbb{y}}{\\mathbb{x}}$를 구하라."
      ]
    },
    {
      "cell_type": "markdown",
      "metadata": {
        "id": "DMBMsjpmfkGY"
      },
      "source": [
        "# 프로그래밍 실습\n",
        "## 3.1\n",
        "주어진 벡터 $\\mathbf{x}$, $\\mathbf{y}$, $\\mathbf{z}$, $\\mathbf{v}$, $\\mathbf{w}$에 대하여 다음을 구하라.\n",
        "$$\n",
        "  \\mathbf{x} = (1,0,1,0),\\quad\\mathbf{y}=(0,2,2,0),\\quad\\mathbf{z} = (1,0,1,2), \\quad\\mathbf{v}=(1,1,1,1), \\quad\\mathbf{w}=(2,2,0,1)\n",
        "$$\n",
        "\n",
        "--(a) $\\mathbf{x}$의 노름, $\\mathbf{y}$의 노름, $\\mathbf{z}$노름 \\\\\n",
        "--(b) $\\mathbf{x}\\cdot\\mathbf{y}$ \\\\\n",
        "--(d) $\\mathbf{x}$와 $\\mathbf{v}$ 사이의 해밍 거리 \\\\\n",
        "--(e) $\\mathbf{v}$와 $\\mathbf{w}$ 사이의 맨하튼 거리 \\\\"
      ]
    },
    {
      "cell_type": "code",
      "execution_count": 7,
      "metadata": {
        "id": "if43i5TtlpFK"
      },
      "outputs": [
        {
          "name": "stdout",
          "output_type": "stream",
          "text": [
            "문제 (a)\n",
            "x =  1.4142135623730951\n",
            "y =  2.8284271247461903\n",
            "z =  2.449489742783178\n",
            "문제 (b) =  2\n",
            "문제 (c) =  4\n",
            "문제 (d) =  2\n",
            "문제 (e) =  3\n"
          ]
        }
      ],
      "source": [
        "# 프로그래밍 실습 3.1\n",
        "import numpy as np\n",
        "\n",
        "# 노름\n",
        "def cNorm(v1):\n",
        "    nv = np.sqrt(np.sum(v1*v1))\n",
        "    return nv\n",
        "\n",
        "# 내적\n",
        "def cInnerproduct(v1, v2):\n",
        "    iv = np.sum(v1*v2)\n",
        "    return iv\n",
        "\n",
        "# 해밍 거리\n",
        "def chd(v1, v2):\n",
        "    nv = len(v1)\n",
        "    hd = 0\n",
        "    for i in range(nv):\n",
        "        if v1[i] != v2[i]:\n",
        "            hd = hd+1\n",
        "    return hd\n",
        "\n",
        "# 맨하튼 거리\n",
        "def cmd(v1, v2):\n",
        "    md = np.sum(np.abs(v1-v2))\n",
        "    return md\n",
        "\n",
        "# 벡터 x, y, z, v, w\n",
        "x = np.array([1,0,1,0])\n",
        "y = np.array([0,2,2,0])\n",
        "z = np.array([1,0,1,2])\n",
        "v = np.array([1,1,1,1])\n",
        "w = np.array([2,2,0,1])\n",
        "\n",
        "# 문제 (a)\n",
        "print(\"문제 (a)\")\n",
        "print(\"x = \", cNorm(x))\n",
        "print(\"y = \", cNorm(y))\n",
        "print(\"z = \", cNorm(z))\n",
        "\n",
        "# 문제 (b)\n",
        "print(\"문제 (b) = \", cInnerproduct(x,y))\n",
        "\n",
        "# 문제 (c)\n",
        "print(\"문제 (c) = \", cInnerproduct(z, x+y))\n",
        "\n",
        "# 문제 (d)\n",
        "print(\"문제 (d) = \" , chd(x,v))\n",
        "\n",
        "# 문제 (e)\n",
        "print(\"문제 (e) = \", cmd(v,w))"
      ]
    }
  ],
  "metadata": {
    "colab": {
      "provenance": []
    },
    "kernelspec": {
      "display_name": "Python 3",
      "name": "python3"
    },
    "language_info": {
      "codemirror_mode": {
        "name": "ipython",
        "version": 3
      },
      "file_extension": ".py",
      "mimetype": "text/x-python",
      "name": "python",
      "nbconvert_exporter": "python",
      "pygments_lexer": "ipython3",
      "version": "3.11.8"
    }
  },
  "nbformat": 4,
  "nbformat_minor": 0
}
