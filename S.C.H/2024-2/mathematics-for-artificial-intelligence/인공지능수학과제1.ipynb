{
  "cells": [
    {
      "cell_type": "markdown",
      "metadata": {
        "id": "ga4UNs7Nletl"
      },
      "source": [
        "# 예제 1-3\n",
        "다음 행렬 $A$, $B$에 대하여 합 $A+B$, 차 $A-B$, 스칼라 곱 $5B$를 구하라.\n",
        "$$\n",
        "  A =\n",
        "  \\begin{bmatrix}\n",
        "    1 & 0 \\\\\n",
        "    2 & 1 \\\\\n",
        "    4 & 3\n",
        "  \\end{bmatrix}\n",
        "  ,\\quad\n",
        "  B =\n",
        "  \\begin{bmatrix}\n",
        "    4 & 3 \\\\\n",
        "    1 & 1 \\\\\n",
        "    0 & 2\n",
        "  \\end{bmatrix}\n",
        "$$\n"
      ]
    },
    {
      "cell_type": "code",
      "execution_count": 15,
      "metadata": {
        "id": "-tQFL7a9ldM2"
      },
      "outputs": [
        {
          "name": "stdout",
          "output_type": "stream",
          "text": [
            "A + B:\n",
            " [[5 3]\n",
            " [3 2]\n",
            " [4 5]] \n",
            "\n",
            "A - B:\n",
            " [[-3 -3]\n",
            " [ 1  0]\n",
            " [ 4  1]] \n",
            "\n",
            "5B:\n",
            " [[20 15]\n",
            " [ 5  5]\n",
            " [ 0 10]] \n",
            "\n"
          ]
        }
      ],
      "source": [
        "import numpy as np\n",
        "\n",
        "A = np.array([[1, 0], [2, 1], [4, 3]])\n",
        "B = np.array([[4, 3], [1, 1], [0, 2]])\n",
        "\n",
        "# A + B \n",
        "ApB = A + B\n",
        "\n",
        "# A - B \n",
        "AmB = A - B\n",
        "\n",
        "# 5B \n",
        "sc5B = 5 * B\n",
        "\n",
        "print(\"A + B:\\n\", ApB, \"\\n\")\n",
        "print(\"A - B:\\n\", AmB, \"\\n\")\n",
        "print(\"5B:\\n\", sc5B, \"\\n\")\n"
      ]
    },
    {
      "cell_type": "markdown",
      "metadata": {
        "id": "7bYiUnpSm9rJ"
      },
      "source": [
        "# 예제 1-4\n",
        "다음 행렬 $A$, $B$에 대하여 곱 $AB$와 $BA$를 구하라.\n",
        "$$\n",
        "  A =\n",
        "  \\begin{bmatrix}\n",
        "    1 & 2 \\\\\n",
        "    3 & 4  \n",
        "  \\end{bmatrix}\n",
        "  ,\\quad\n",
        "  B =\n",
        "  \\begin{bmatrix}\n",
        "    5 & 6 \\\\\n",
        "    7 & 8\n",
        "  \\end{bmatrix}\n",
        "$$\n"
      ]
    },
    {
      "cell_type": "code",
      "execution_count": 14,
      "metadata": {
        "id": "vvc040_Cm9Ju"
      },
      "outputs": [
        {
          "name": "stdout",
          "output_type": "stream",
          "text": [
            "AB:\n",
            " [[19 22]\n",
            " [43 50]] \n",
            "\n",
            "BA:\n",
            " [[23 34]\n",
            " [31 46]] \n",
            "\n"
          ]
        }
      ],
      "source": [
        "import numpy as np\n",
        "\n",
        "A = np.array([[1, 2], [3, 4]])\n",
        "B = np.array([[5, 6], [7, 8]])\n",
        "\n",
        "# AB\n",
        "AB = np.dot(A, B)\n",
        "\n",
        "# BA\n",
        "BA = np.dot(B, A)\n",
        "\n",
        "print(\"AB:\\n\", AB, \"\\n\")\n",
        "print(\"BA:\\n\", BA, \"\\n\")\n"
      ]
    },
    {
      "cell_type": "markdown",
      "metadata": {
        "id": "zlVfea5Im-UH"
      },
      "source": [
        "# 예제 1-5\n",
        "네 행렬\n",
        "$$\n",
        "  A =\n",
        "  \\begin{bmatrix}\n",
        "    3 & 0 \\\\\n",
        "    -1 & 2 \\\\\n",
        "    1 & 1   \n",
        "  \\end{bmatrix}\n",
        "  ,\\quad\n",
        "  B =\n",
        "  \\begin{bmatrix}\n",
        "    -3 & -1 \\\\\n",
        "    2 & 1 \\\\\n",
        "    4 & 3\n",
        "  \\end{bmatrix}\n",
        "  , \\quad\n",
        "  C =\n",
        "  \\begin{bmatrix}\n",
        "    1 & 2 & 3 \\\\\n",
        "    2 & 0 & 1     \n",
        "  \\end{bmatrix}\n",
        "  , \\quad\n",
        "  D =\n",
        "  \\begin{bmatrix}\n",
        "    1 \\\\ 2 \\\\ 3\n",
        "  \\end{bmatrix}\n",
        "$$\n",
        "에 대하여 다음을 계산하여라.\n",
        "\n",
        "(a) $A + 2B$\n",
        "\n",
        "(b) $AC$\n",
        "\n",
        "(c) $3D$"
      ]
    },
    {
      "cell_type": "code",
      "execution_count": 13,
      "metadata": {
        "id": "xW_hs7b3nh5L"
      },
      "outputs": [
        {
          "name": "stdout",
          "output_type": "stream",
          "text": [
            "A + 2B:\n",
            " [[-3 -2]\n",
            " [ 3  4]\n",
            " [ 9  7]] \n",
            "\n",
            "AC:\n",
            " [[ 3  6  9]\n",
            " [ 3 -2 -1]\n",
            " [ 3  2  4]] \n",
            "\n",
            "3D:\n",
            " [[3]\n",
            " [6]\n",
            " [9]] \n",
            "\n"
          ]
        }
      ],
      "source": [
        "import numpy as np\n",
        "\n",
        "A = np.array([[3, 0], [-1, 2], [1, 1]])\n",
        "B = np.array([[-3, -1], [2, 1], [4, 3]])\n",
        "C = np.array([[1, 2, 3], [2, 0, 1]])\n",
        "D = np.array([[1], [2], [3]])\n",
        "\n",
        "# (a) A + 2B\n",
        "A_plus_2B = A + 2 * B\n",
        "\n",
        "# (b) AC \n",
        "AC = np.dot(A, C)\n",
        "\n",
        "# (c)\n",
        "threeD = 3 * D\n",
        "\n",
        "print(\"A + 2B:\\n\", A_plus_2B, \"\\n\")\n",
        "print(\"AC:\\n\", AC, \"\\n\")\n",
        "print(\"3D:\\n\", threeD, \"\\n\")\n"
      ]
    },
    {
      "cell_type": "markdown",
      "metadata": {
        "id": "IO_ZFyaEnkhG"
      },
      "source": [
        "연습문제\n",
        "\n",
        "주어진 행렬 $A, B, C, D$ 에 대하여 다음을 구하라.\n",
        "$$\n",
        "  A =\n",
        "  \\begin{bmatrix}\n",
        "    1 & 2 \\\\\n",
        "    3 & 4  \n",
        "  \\end{bmatrix}\n",
        "  ,\\quad\n",
        "  B =\n",
        "  \\begin{bmatrix}\n",
        "    -2 & 4 \\\\\n",
        "    1 & 3\n",
        "  \\end{bmatrix}\n",
        "  , \\quad\n",
        "  C =\n",
        "  \\begin{bmatrix}\n",
        "    2 & -5 \\\\\n",
        "    3 & -2     \n",
        "  \\end{bmatrix}\n",
        "  , \\quad\n",
        "  D =\n",
        "  \\begin{bmatrix}\n",
        "    5 & -1 & 3 \\\\\n",
        "    -4 & 3 & -6 \\\\\n",
        "    -3 & 1 & 2\n",
        "  \\end{bmatrix}\n",
        "$$\n",
        "\n",
        "(a) $A[2,2] + B[1,1]$\n",
        "\n",
        "(e) $(A+B)^{\\top}$\n",
        "\n",
        "(h) $(3I_{3})D$\n",
        "\n",
        "* $A[2,2]$는 2행 2열의 원소 ($a_{22}$)를 의미\n",
        "* $I_{n}$은 $n \\times n$ 단위행렬을 의미"
      ]
    },
    {
      "cell_type": "code",
      "execution_count": 11,
      "metadata": {
        "id": "Vs9unumNov5M"
      },
      "outputs": [
        {
          "name": "stdout",
          "output_type": "stream",
          "text": [
            "A[2,2] + B[1,1]:\n",
            " 2 \n",
            "\n",
            "(A + B)^T:\n",
            " [[-1  4]\n",
            " [ 6  7]] \n",
            "\n",
            "(3I_3)D:\n",
            " [[ 15.  -3.   9.]\n",
            " [-12.   9. -18.]\n",
            " [ -9.   3.   6.]] \n",
            "\n"
          ]
        }
      ],
      "source": [
        "import numpy as np\n",
        "\n",
        "A = np.array([[1, 2], [3, 4]])\n",
        "B = np.array([[-2, 4], [1, 3]])\n",
        "C = np.array([[2, -5], [3, -2]])\n",
        "D = np.array([[5, -1, 3], [-4, 3, -6], [-3, 1, 2]])\n",
        "\n",
        "# (a) A[2,2] + B[1,1] \n",
        "a = A[1, 1] + B[0, 0]\n",
        "\n",
        "# (e) (A + B)의 전치 \n",
        "e = np.transpose(A + B)\n",
        "\n",
        "# (h) 3*(3x3크기의)단위 행렬*D\n",
        "I_3 = np.eye(3)  \n",
        "h = 3 * I_3 @ D\n",
        "\n",
        "print(\"A[2,2] + B[1,1]:\\n\", a, \"\\n\")\n",
        "print(\"(A + B)^T:\\n\", e, \"\\n\")\n",
        "print(\"(3I_3)D:\\n\", h, \"\\n\")\n"
      ]
    }
  ],
  "metadata": {
    "colab": {
      "provenance": []
    },
    "kernelspec": {
      "display_name": "Python 3",
      "name": "python3"
    },
    "language_info": {
      "codemirror_mode": {
        "name": "ipython",
        "version": 3
      },
      "file_extension": ".py",
      "mimetype": "text/x-python",
      "name": "python",
      "nbconvert_exporter": "python",
      "pygments_lexer": "ipython3",
      "version": "3.11.8"
    }
  },
  "nbformat": 4,
  "nbformat_minor": 0
}
