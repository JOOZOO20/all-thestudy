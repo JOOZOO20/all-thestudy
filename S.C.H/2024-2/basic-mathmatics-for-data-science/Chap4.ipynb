{
  "nbformat": 4,
  "nbformat_minor": 0,
  "metadata": {
    "colab": {
      "provenance": []
    },
    "kernelspec": {
      "name": "python3",
      "display_name": "Python 3"
    },
    "language_info": {
      "name": "python"
    }
  },
  "cells": [
    {
      "cell_type": "code",
      "execution_count": 1,
      "metadata": {
        "colab": {
          "base_uri": "https://localhost:8080/"
        },
        "id": "RQkRQG2yHjHT",
        "outputId": "a4b8a336-c14a-4445-cb42-14b6134cff53"
      },
      "outputs": [
        {
          "output_type": "stream",
          "name": "stdout",
          "text": [
            "f'(x)= x**2*(2020*x**2017 + 9)\n",
            "g'(x)= (x + 1)**(-2)\n"
          ]
        }
      ],
      "source": [
        "# Ex 4-5\n",
        "import sympy as sp\n",
        "\n",
        "# (a) f(x) = x**2020 + 3*x**3 - 1\n",
        "x  = sp.Symbol('x')\n",
        "fx = x**2020+3*x*x*x-1\n",
        "print(\"f'(x)=\",sp.simplify(sp.diff(fx,x)))\n",
        "\n",
        "# (b) g(x) = x/(x+1)\n",
        "x  = sp.Symbol('x')\n",
        "gx = x/(x+1)\n",
        "print(\"g'(x)=\",sp.simplify(sp.diff(gx,x)))"
      ]
    },
    {
      "cell_type": "code",
      "source": [
        "# Ex 4-8\n",
        "import sympy as sp\n",
        "\n",
        "# (a) f(x) = sinx*cosx\n",
        "x  = sp.Symbol('x')\n",
        "fx = sp.sin(x)*sp.cos(x)\n",
        "print(\"f'(x)=\",sp.simplify(sp.diff(fx,x)))\n",
        "\n",
        "# (b) g(x) = (x**2)*tanx\n",
        "x  = sp.Symbol('x')\n",
        "gx = (x**2)*sp.tan(x)\n",
        "print(\"g'(x)=\",sp.simplify(sp.diff(gx,x)))"
      ],
      "metadata": {
        "colab": {
          "base_uri": "https://localhost:8080/"
        },
        "id": "FeG4egdbH81i",
        "outputId": "3bb5d2ad-3ff4-489d-a334-6e87f0b4afd1"
      },
      "execution_count": 2,
      "outputs": [
        {
          "output_type": "stream",
          "name": "stdout",
          "text": [
            "f'(x)= cos(2*x)\n",
            "g'(x)= x*(x/cos(x)**2 + 2*tan(x))\n"
          ]
        }
      ]
    },
    {
      "cell_type": "code",
      "source": [
        "# Ex 4-11\n",
        "import sympy as sp\n",
        "\n",
        "# (a) f(x) = exp(x)/x\n",
        "x  = sp.Symbol('x')\n",
        "fx = sp.exp(x)/x\n",
        "print(\"f'(x)=\",sp.simplify(sp.diff(fx,x)))\n",
        "\n",
        "# (b) g(x) = 3log2(x)-xlogx\n",
        "x  = sp.Symbol('x')\n",
        "gx = 3*sp.log(x,2)-x*sp.log(x)\n",
        "print(\"g'(x)=\",sp.simplify(sp.diff(gx,x)))"
      ],
      "metadata": {
        "colab": {
          "base_uri": "https://localhost:8080/"
        },
        "id": "4127MF4ZIATT",
        "outputId": "380c067b-f67f-455b-de46-314fec7c6af0"
      },
      "execution_count": 3,
      "outputs": [
        {
          "output_type": "stream",
          "name": "stdout",
          "text": [
            "f'(x)= (x - 1)*exp(x)/x**2\n",
            "g'(x)= -log(x) - 1 + 3/(x*log(2))\n"
          ]
        }
      ]
    },
    {
      "cell_type": "code",
      "source": [
        "# Ex 4-12\n",
        "import sympy as sp\n",
        "\n",
        "# (a) f(x) = x**3-2*x**2+1\n",
        "x  = sp.Symbol('x')\n",
        "fx = x**3-2*x**2+1\n",
        "print(\"f''(x)=\",sp.simplify(sp.diff(sp.diff(fx,x),x)))\n",
        "\n",
        "# (b) g(x) = sinx+exp(x)\n",
        "x  = sp.Symbol('x')\n",
        "gx = sp.sin(x)+sp.exp(x)\n",
        "print(\"g''(x)=\",sp.simplify(sp.diff(sp.diff(gx,x),x)))"
      ],
      "metadata": {
        "colab": {
          "base_uri": "https://localhost:8080/"
        },
        "id": "8ZHLhNrwIDg2",
        "outputId": "47bf4893-071d-490b-94c5-3027a5117b4f"
      },
      "execution_count": 4,
      "outputs": [
        {
          "output_type": "stream",
          "name": "stdout",
          "text": [
            "f''(x)= 6*x - 4\n",
            "g''(x)= exp(x) - sin(x)\n"
          ]
        }
      ]
    },
    {
      "cell_type": "code",
      "source": [
        "# Ex 4-13\n",
        "import sympy as sp\n",
        "\n",
        "# (a) f(x) = x**3-2*x**2+1\n",
        "x  = sp.Symbol('x')\n",
        "fx = x**3-2*x**2+1\n",
        "print(\"f'''(x)=\",sp.simplify(sp.diff(sp.diff(sp.diff(fx,x),x),x)))\n",
        "\n",
        "# (b) g(x) = sinx+exp(x)\n",
        "x  = sp.Symbol('x')\n",
        "gx = sp.sin(x)+sp.exp(x)\n",
        "print(\"g'''(x)=\",sp.simplify(sp.diff(sp.diff(sp.diff(gx,x),x),x)))"
      ],
      "metadata": {
        "colab": {
          "base_uri": "https://localhost:8080/"
        },
        "id": "Zvhdqcm6ID7K",
        "outputId": "9ae17dba-1de8-4ab6-f1d4-224a612fb60c"
      },
      "execution_count": 5,
      "outputs": [
        {
          "output_type": "stream",
          "name": "stdout",
          "text": [
            "f'''(x)= 6\n",
            "g'''(x)= exp(x) - cos(x)\n"
          ]
        }
      ]
    },
    {
      "cell_type": "code",
      "source": [
        "# Ex 4-14\n",
        "import sympy as sp\n",
        "\n",
        "# (a) f(x) = (x**2+2)**3\n",
        "x  = sp.Symbol('x')\n",
        "fx = (x**2+2)**3\n",
        "print(\"f'(x)=\",sp.simplify(sp.diff(fx,x)))\n",
        "\n",
        "# (b) g(x) = 1/(x**4+1)**2\n",
        "x  = sp.Symbol('x')\n",
        "gx = 1/(x**4+1)**2\n",
        "print(\"g'(x)=\",sp.simplify(sp.diff(gx,x)))"
      ],
      "metadata": {
        "colab": {
          "base_uri": "https://localhost:8080/"
        },
        "id": "QWJxsl2yIHTs",
        "outputId": "65687bde-ca95-4986-bd20-d10813e154a3"
      },
      "execution_count": 6,
      "outputs": [
        {
          "output_type": "stream",
          "name": "stdout",
          "text": [
            "f'(x)= 6*x*(x**2 + 2)**2\n",
            "g'(x)= -8*x**3/(x**4 + 1)**3\n"
          ]
        }
      ]
    },
    {
      "cell_type": "code",
      "source": [
        "# Ex 4-15\n",
        "import sympy as sp\n",
        "\n",
        "# (a) f(x) = log(x**2+4)\n",
        "x  = sp.Symbol('x')\n",
        "fx = sp.log(x**2+4)\n",
        "print(\"f'(x)=\",sp.simplify(sp.diff(fx,x)))\n",
        "\n",
        "# (b) g(x) = sin(tan(x))\n",
        "x  = sp.Symbol('x')\n",
        "gx = sp.sin(sp.tan(x))\n",
        "print(\"g'(x)=\",sp.simplify(sp.diff(gx,x)))"
      ],
      "metadata": {
        "colab": {
          "base_uri": "https://localhost:8080/"
        },
        "id": "t1A5ELRvIK4M",
        "outputId": "73cdb14d-30ef-4a82-fb1c-440167e070c0"
      },
      "execution_count": 7,
      "outputs": [
        {
          "output_type": "stream",
          "name": "stdout",
          "text": [
            "f'(x)= 2*x/(x**2 + 4)\n",
            "g'(x)= cos(tan(x))/cos(x)**2\n"
          ]
        }
      ]
    },
    {
      "cell_type": "code",
      "source": [
        "# Ex 4-17\n",
        "import sympy as sp\n",
        "\n",
        "# f(x,y) = x**2+2*y**2-x*y-3*x-4*y-5\n",
        "x  = sp.Symbol('x')\n",
        "y  = sp.Symbol('y')\n",
        "fxy = x**2+2*y**2-x*y-3*x-4*y-5\n",
        "print(\"dy/dx=\",sp.idiff(fxy,y,x))\n",
        "\n"
      ],
      "metadata": {
        "colab": {
          "base_uri": "https://localhost:8080/"
        },
        "id": "BOAfCrg-IM1n",
        "outputId": "2b29143d-99e4-4875-8ae5-d1342a8b5b10"
      },
      "execution_count": 8,
      "outputs": [
        {
          "output_type": "stream",
          "name": "stdout",
          "text": [
            "dy/dx= (2*x - y - 3)/(x - 4*y + 4)\n"
          ]
        }
      ]
    },
    {
      "cell_type": "code",
      "source": [
        "# Exercise 4-10\n",
        "import sympy as sp\n",
        "\n",
        "x = sp.Symbol('x')\n",
        "# (a)\n",
        "fx = (2*x-1)**4\n",
        "print(\"The answer for (a) is \", sp.diff(fx,x))\n",
        "\n",
        "# (b)\n",
        "fx = 1/(3-x**3)\n",
        "print(\"The answer for (b) is \", sp.diff(fx,x))\n",
        "\n",
        "# (c)\n",
        "fx = sp.log(sp.tan(x))\n",
        "print(\"The answer for (c) is \", sp.diff(fx,x))\n",
        "\n",
        "# (d)\n",
        "fx = sp.exp(sp.sqrt(x))\n",
        "print(\"The answer for (d) is \", sp.diff(fx,x))\n",
        "\n"
      ],
      "metadata": {
        "colab": {
          "base_uri": "https://localhost:8080/"
        },
        "id": "O5CRJaOGIOyY",
        "outputId": "6ceaa86c-7d7f-4656-9770-b07a4c50eae5"
      },
      "execution_count": 9,
      "outputs": [
        {
          "output_type": "stream",
          "name": "stdout",
          "text": [
            "The answer for (a) is  8*(2*x - 1)**3\n",
            "The answer for (b) is  3*x**2/(3 - x**3)**2\n",
            "The answer for (c) is  (tan(x)**2 + 1)/tan(x)\n",
            "The answer for (d) is  exp(sqrt(x))/(2*sqrt(x))\n"
          ]
        }
      ]
    },
    {
      "cell_type": "code",
      "source": [
        "# Exercise 4-11\n",
        "import sympy as sp\n",
        "\n",
        "x = sp.Symbol('x')\n",
        "fx = sp.exp(2*x)*sp.sin(3*x)\n",
        "dfx = sp.diff(fx,x)\n",
        "ddfx = sp.diff(sp.diff(fx,x),x)\n",
        "\n",
        "k = sp.Symbol('k')\n",
        "print(sp.factor(ddfx+k*dfx+13*fx)) # sp.factor 는 인수분해!\n",
        "\n"
      ],
      "metadata": {
        "colab": {
          "base_uri": "https://localhost:8080/"
        },
        "id": "K6x5b1i6IRec",
        "outputId": "fbe6bc0e-2e1f-4de9-d7e9-6c2e92b9e97a"
      },
      "execution_count": 10,
      "outputs": [
        {
          "output_type": "stream",
          "name": "stdout",
          "text": [
            "(k + 4)*(2*sin(3*x) + 3*cos(3*x))*exp(2*x)\n"
          ]
        }
      ]
    }
  ]
}