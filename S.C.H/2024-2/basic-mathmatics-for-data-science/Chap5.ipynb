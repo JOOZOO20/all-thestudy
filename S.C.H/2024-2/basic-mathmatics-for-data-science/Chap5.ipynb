{
  "nbformat": 4,
  "nbformat_minor": 0,
  "metadata": {
    "colab": {
      "provenance": []
    },
    "kernelspec": {
      "name": "python3",
      "display_name": "Python 3"
    },
    "language_info": {
      "name": "python"
    }
  },
  "cells": [
    {
      "cell_type": "code",
      "execution_count": 1,
      "metadata": {
        "colab": {
          "base_uri": "https://localhost:8080/"
        },
        "id": "v5Q6C1GpuEsv",
        "outputId": "58f52315-a0c6-4009-d086-b46997a92c82"
      },
      "outputs": [
        {
          "output_type": "stream",
          "name": "stdout",
          "text": [
            "F(x)= x**3\n",
            "G(x)= exp(x)\n"
          ]
        }
      ],
      "source": [
        "# Ex 5-1\n",
        "import sympy as sp\n",
        "\n",
        "# (a) f(x) = 3*x**2\n",
        "x  = sp.Symbol('x')\n",
        "fx = 3*x**2\n",
        "print(\"F(x)=\",sp.integrate(fx,x))\n",
        "\n",
        "# (b) g(x) = e^x\n",
        "x  = sp.Symbol('x')\n",
        "gx = sp.exp(x)\n",
        "print(\"G(x)=\",sp.integrate(gx,x))"
      ]
    },
    {
      "cell_type": "code",
      "source": [
        "# Ex 5-2\n",
        "import sympy as sp\n",
        "\n",
        "# (a) f(x) = 2*x**2-x+3\n",
        "x  = sp.Symbol('x')\n",
        "fx = 2*x**2-x+3\n",
        "print(\"F(x)=\",sp.integrate(fx,x))\n",
        "\n",
        "# (b) g(x) = (x-1)*(x-3)\n",
        "x  = sp.Symbol('x')\n",
        "gx = (x-1)*(x-3)\n",
        "print(\"G(x)=\",sp.integrate(gx,x))"
      ],
      "metadata": {
        "colab": {
          "base_uri": "https://localhost:8080/"
        },
        "id": "Y-xekirBuME0",
        "outputId": "0d3e9a58-0c8c-4ffc-ec16-be866ad9c64d"
      },
      "execution_count": 2,
      "outputs": [
        {
          "output_type": "stream",
          "name": "stdout",
          "text": [
            "F(x)= 2*x**3/3 - x**2/2 + 3*x\n",
            "G(x)= x**3/3 - 2*x**2 + 3*x\n"
          ]
        }
      ]
    },
    {
      "cell_type": "code",
      "source": [
        "# Ex 5-4\n",
        "import sympy as sp\n",
        "\n",
        "# (a) f(x) = x+1/x-1/(x**2)\n",
        "x  = sp.Symbol('x')\n",
        "fx = x+1/x-1/(x**2)\n",
        "print(\"F(x)=\",sp.integrate(fx,x))\n",
        "\n",
        "# (b) g(x) = (sqrt(x)+4)/x\n",
        "x  = sp.Symbol('x')\n",
        "gx = (sp.sqrt(x)+4)/x\n",
        "print(\"G(x)=\",sp.integrate(gx,x))"
      ],
      "metadata": {
        "colab": {
          "base_uri": "https://localhost:8080/"
        },
        "id": "nEjpubeSuNa4",
        "outputId": "cc555e5c-0f95-449d-f5df-4b92e3681f6e"
      },
      "execution_count": 3,
      "outputs": [
        {
          "output_type": "stream",
          "name": "stdout",
          "text": [
            "F(x)= x**2/2 + log(x) + 1/x\n",
            "G(x)= 2*sqrt(x) + 4*log(x)\n"
          ]
        }
      ]
    },
    {
      "cell_type": "code",
      "source": [
        "# Ex 5-5\n",
        "import sympy as sp\n",
        "\n",
        "# (a) f(x) = tan(x)*tan(x)+1-2*cos(x)\n",
        "x  = sp.Symbol('x')\n",
        "fx = sp.tan(x)*sp.tan(x)+1-2*sp.cos(x)\n",
        "print(\"F(x)=\",sp.integrate(fx,x))\n",
        "\n",
        "# (b) g(x) = 2*sin(x)*sin(x)/(1+cos(x))\n",
        "x  = sp.Symbol('x')\n",
        "gx = 2*sp.sin(x)*sp.sin(x)/(1+sp.cos(x))\n",
        "print(\"G(x)=\",sp.integrate(gx,x))"
      ],
      "metadata": {
        "colab": {
          "base_uri": "https://localhost:8080/"
        },
        "id": "eUvCsSMUuQA6",
        "outputId": "ee3cfe34-457d-42b9-ea66-f0dbcec9be51"
      },
      "execution_count": 4,
      "outputs": [
        {
          "output_type": "stream",
          "name": "stdout",
          "text": [
            "F(x)= -2*sin(x) + sin(x)/cos(x)\n",
            "G(x)= 2*x*tan(x/2)**2/(tan(x/2)**2 + 1) + 2*x/(tan(x/2)**2 + 1) - 4*tan(x/2)/(tan(x/2)**2 + 1)\n"
          ]
        }
      ]
    },
    {
      "cell_type": "code",
      "source": [
        "# Ex 5-6\n",
        "import sympy as sp\n",
        "\n",
        "# (a) f(x) = exp(x)-3**(x+1)\n",
        "x  = sp.Symbol('x')\n",
        "fx = sp.exp(x)-3**(x+1)\n",
        "print(\"F(x)=\",sp.integrate(fx,x))\n",
        "\n",
        "# (b) g(x) = (exp(2*x)-x)/(exp(x)-sqrt(x))\n",
        "x  = sp.Symbol('x')\n",
        "gx = (sp.exp(2*x)-x)/(sp.exp(x)-sp.sqrt(x))\n",
        "print(\"G(x)=\",sp.integrate(gx,x))"
      ],
      "metadata": {
        "colab": {
          "base_uri": "https://localhost:8080/"
        },
        "id": "SMuNT0xHuRnJ",
        "outputId": "e4f3b3ff-133b-4e0e-f502-9d354cf71639"
      },
      "execution_count": 5,
      "outputs": [
        {
          "output_type": "stream",
          "name": "stdout",
          "text": [
            "F(x)= -3**(x + 1)/log(3) + exp(x)\n",
            "G(x)= 2*x**(3/2)/3 + exp(x)\n"
          ]
        }
      ]
    },
    {
      "cell_type": "code",
      "source": [
        "# Ex 5-7\n",
        "import sympy as sp\n",
        "\n",
        "# (a) f(x) = (3*x+2)**4\n",
        "x  = sp.Symbol('x')\n",
        "fx = (3*x+2)**4\n",
        "print(\"F(x)=\",sp.integrate(fx,x))\n",
        "\n",
        "# (b) g(x) = cos(2*x+1)\n",
        "x  = sp.Symbol('x')\n",
        "gx = sp.cos(2*x+1)\n",
        "print(\"G(x)=\",sp.simplify(sp.integrate(gx,x)))"
      ],
      "metadata": {
        "colab": {
          "base_uri": "https://localhost:8080/"
        },
        "id": "MVjmVkADuTSX",
        "outputId": "c5b67344-8a41-497b-bb4a-8d1dc47c00b0"
      },
      "execution_count": 6,
      "outputs": [
        {
          "output_type": "stream",
          "name": "stdout",
          "text": [
            "F(x)= 81*x**5/5 + 54*x**4 + 72*x**3 + 48*x**2 + 16*x\n",
            "G(x)= sin(2*x + 1)/2\n"
          ]
        }
      ]
    },
    {
      "cell_type": "code",
      "source": [
        "# Ex 5-8\n",
        "import sympy as sp\n",
        "\n",
        "# (a) f(x) = 2*x*exp(x**2+1)\n",
        "x  = sp.Symbol('x')\n",
        "fx = 2*x*sp.exp(x**2+1)\n",
        "print(\"F(x)=\",sp.integrate(fx,x))\n",
        "\n",
        "# (b) g(x) = tan(x)/(cos(x)*cos(x))\n",
        "x  = sp.Symbol('x')\n",
        "gx = sp.tan(x)/(sp.cos(x)*sp.cos(x))\n",
        "print(\"G(x)=\",sp.simplify(sp.integrate(gx,x)))"
      ],
      "metadata": {
        "colab": {
          "base_uri": "https://localhost:8080/"
        },
        "id": "C30ITjdiuXtG",
        "outputId": "a497a6c8-c333-462a-df84-be35db064d85"
      },
      "execution_count": 7,
      "outputs": [
        {
          "output_type": "stream",
          "name": "stdout",
          "text": [
            "F(x)= exp(x**2 + 1)\n",
            "G(x)= 1/(2*cos(x)**2)\n"
          ]
        }
      ]
    },
    {
      "cell_type": "code",
      "source": [
        "# Ex 5-9\n",
        "import sympy as sp\n",
        "\n",
        "# (a) f(x) = 3*x**2/(x**3+2)\n",
        "x  = sp.Symbol('x')\n",
        "fx = 3*x**2/(x**3+2)\n",
        "print(\"F(x)=\",sp.integrate(fx,x))\n",
        "\n",
        "# (b) g(x) = 1/(x*log(x))\n",
        "x  = sp.Symbol('x')\n",
        "gx = 1/(x*sp.log(x))\n",
        "print(\"G(x)=\",sp.simplify(sp.integrate(gx,x)))"
      ],
      "metadata": {
        "colab": {
          "base_uri": "https://localhost:8080/"
        },
        "id": "tFyQFNk_uawr",
        "outputId": "a2397c91-6591-4320-b0ac-8288014d8dcc"
      },
      "execution_count": 8,
      "outputs": [
        {
          "output_type": "stream",
          "name": "stdout",
          "text": [
            "F(x)= log(x**3 + 2)\n",
            "G(x)= log(log(x))\n"
          ]
        }
      ]
    },
    {
      "cell_type": "code",
      "source": [
        "# Ex 5-10\n",
        "import sympy as sp\n",
        "\n",
        "# (a) f(x) = 2*x*exp(x)\n",
        "x  = sp.Symbol('x')\n",
        "fx = 2*x*sp.exp(x)\n",
        "print(\"F(x)=\",sp.integrate(fx,x))\n",
        "\n",
        "# (b) g(x) = x*log(x)\n",
        "x  = sp.Symbol('x')\n",
        "gx = x*sp.log(x)\n",
        "print(\"G(x)=\",sp.simplify(sp.integrate(gx,x)))"
      ],
      "metadata": {
        "colab": {
          "base_uri": "https://localhost:8080/"
        },
        "id": "4peOeqQZub03",
        "outputId": "1f85f8fa-34d4-4a23-c648-f0362ea01629"
      },
      "execution_count": 9,
      "outputs": [
        {
          "output_type": "stream",
          "name": "stdout",
          "text": [
            "F(x)= (2*x - 2)*exp(x)\n",
            "G(x)= x**2*(2*log(x) - 1)/4\n"
          ]
        }
      ]
    },
    {
      "cell_type": "code",
      "source": [
        "# import sympy as sp\n",
        "# x = sp.Symbol('x')\n",
        "# fx = x**2+4*x+3\n",
        "# print(\"f(x)=\",sp.factor(fx))\n",
        "\n",
        "# Ex 5-11\n",
        "import sympy as sp\n",
        "\n",
        "# f(x) = exp(x)*sin(x)\n",
        "x  = sp.Symbol('x')\n",
        "fx = sp.exp(x)*sp.sin(x)\n",
        "print(\"F(x)=\",sp.factor(sp.integrate(fx,x)))\n"
      ],
      "metadata": {
        "colab": {
          "base_uri": "https://localhost:8080/"
        },
        "id": "VlIedKk_udDD",
        "outputId": "c0628d4f-7920-4afb-dd74-67e17e8da7a6"
      },
      "execution_count": 16,
      "outputs": [
        {
          "output_type": "stream",
          "name": "stdout",
          "text": [
            "F(x)= -(-sin(x) + cos(x))*exp(x)/2\n"
          ]
        }
      ]
    },
    {
      "cell_type": "code",
      "source": [
        "# Ex 5-15\n",
        "import sympy as sp\n",
        "\n",
        "# (a) f(x)=2*x**2-x, [0,2]\n",
        "x = sp.Symbol('x')\n",
        "fx = 2*x**2-x\n",
        "print(\"(a) : \", sp.integrate(fx,(x,0,2)))\n",
        "\n",
        "# (b) g(x)=cos(x), [pi/2, pi]\n",
        "x = sp.Symbol('x')\n",
        "gx = sp.cos(x)\n",
        "print(\"(b) : \", sp.integrate(gx,(x,sp.pi/2,sp.pi)))"
      ],
      "metadata": {
        "colab": {
          "base_uri": "https://localhost:8080/"
        },
        "id": "0A-GrYdZugLp",
        "outputId": "c95b2f2e-52aa-4b75-a847-fb64366519ba"
      },
      "execution_count": 11,
      "outputs": [
        {
          "output_type": "stream",
          "name": "stdout",
          "text": [
            "(a) :  10/3\n",
            "(b) :  -1\n"
          ]
        }
      ]
    },
    {
      "cell_type": "code",
      "source": [
        "# Ex 5-16\n",
        "import sympy as sp\n",
        "\n",
        "# (a) f1(x)=x**3-x+1, f2(x)=x**3+x+1, [0,3]\n",
        "x = sp.Symbol('x')\n",
        "f1x = x**3-x+1\n",
        "f2x = x**3+x+1\n",
        "print(\"(a1) : \", sp.integrate(f1x,(x,0,3))-sp.integrate(f2x,(x,0,3)))\n",
        "print(\"(a2) : \", sp.integrate(f1x-f2x,(x,0,3)))\n",
        "# (b) g(x)=x**3-exp(x), [0,1], [1,2]\n",
        "x = sp.Symbol('x')\n",
        "gx = x**3-sp.exp(x)\n",
        "print(\"(b1) : \", sp.integrate(gx,(x,0,1))+sp.integrate(gx,(x,1,2)))\n",
        "print(\"(b2) : \", sp.integrate(gx,(x,0,2)))"
      ],
      "metadata": {
        "colab": {
          "base_uri": "https://localhost:8080/"
        },
        "id": "Zsu_dUgeuglj",
        "outputId": "ede05e9c-ea11-4157-ade6-96c2508974f6"
      },
      "execution_count": 12,
      "outputs": [
        {
          "output_type": "stream",
          "name": "stdout",
          "text": [
            "(a1) :  -9\n",
            "(a2) :  -9\n",
            "(b1) :  5 - exp(2)\n",
            "(b2) :  5 - exp(2)\n"
          ]
        }
      ]
    },
    {
      "cell_type": "code",
      "source": [
        "# Ex 5-17\n",
        "import sympy as sp\n",
        "\n",
        "# (a) f(x)=(2*x-1)**3, [0,2]\n",
        "x = sp.Symbol('x')\n",
        "fx = (2*x-1)**3\n",
        "print(\"(a) : \", sp.integrate(fx,(x,0,2)))\n",
        "\n",
        "# (b) g(x)=2*x*exp(x**2), [0,1]\n",
        "x = sp.Symbol('x')\n",
        "gx = 2*x*sp.exp(x**2)\n",
        "print(\"(b) : \", sp.integrate(gx,(x,0,1)))\n"
      ],
      "metadata": {
        "colab": {
          "base_uri": "https://localhost:8080/"
        },
        "id": "8kWguQg1uqWt",
        "outputId": "740e48d6-d612-4cfd-d4e9-98190d62b3f6"
      },
      "execution_count": 13,
      "outputs": [
        {
          "output_type": "stream",
          "name": "stdout",
          "text": [
            "(a) :  10\n",
            "(b) :  -1 + E\n"
          ]
        }
      ]
    },
    {
      "cell_type": "code",
      "source": [
        "# Ex 5-18\n",
        "import sympy as sp\n",
        "\n",
        "# (a) f(x)=log(x), [1,exp(2)]\n",
        "x = sp.Symbol('x')\n",
        "fx = sp.log(x)\n",
        "print(\"(a) : \", sp.integrate(fx,(x,1,sp.exp(2))))\n",
        "\n",
        "# (b) g(x)=x*cos(x), [0,pi]\n",
        "x = sp.Symbol('x')\n",
        "gx = x*sp.cos(x)\n",
        "print(\"(b) : \", sp.integrate(gx,(x,0,sp.pi)))\n"
      ],
      "metadata": {
        "colab": {
          "base_uri": "https://localhost:8080/"
        },
        "id": "WG0voFgkurdh",
        "outputId": "405c8514-37e9-41e1-e24c-3ba5a394728a"
      },
      "execution_count": 14,
      "outputs": [
        {
          "output_type": "stream",
          "name": "stdout",
          "text": [
            "(a) :  1 + exp(2)\n",
            "(b) :  -2\n"
          ]
        }
      ]
    },
    {
      "cell_type": "code",
      "source": [
        "import sympy as sp\n",
        "x = sp.Symbol('x')\n",
        "# (a)\n",
        "fx = x**3-3*x+2\n",
        "print(\"F(x)=\",sp.integrate(fx,x))\n",
        "# (b)\n",
        "fx = sp.exp(x)-1/x\n",
        "print(\"F(x)=\",sp.integrate(fx,x))\n",
        "# (c)\n",
        "fx = ((x+1)**2)*(x-2)\n",
        "print(\"F(x)=\",sp.integrate(fx,x))\n",
        "# (d)\n",
        "fx = (3**x-1)**2\n",
        "print(\"F(x)=\",sp.integrate(fx,x))\n",
        "# (e)\n",
        "fx = (sp.sin(x))**3\n",
        "print(\"F(x)=\",sp.integrate(fx,x))\n",
        "# (f)\n",
        "fx = (x**2)*sp.log(x)\n",
        "print(\"F(x)=\",sp.integrate(fx,x))\n"
      ],
      "metadata": {
        "colab": {
          "base_uri": "https://localhost:8080/"
        },
        "id": "_d-bh0d-xmO-",
        "outputId": "82c780b4-85c2-46a9-81e8-e579ac0efa39"
      },
      "execution_count": 17,
      "outputs": [
        {
          "output_type": "stream",
          "name": "stdout",
          "text": [
            "F(x)= x**4/4 - 3*x**2/2 + 2*x\n",
            "F(x)= exp(x) - log(x)\n",
            "F(x)= x**4/4 - 3*x**2/2 - 2*x\n",
            "F(x)= x + (3**(2*x)*log(3) - 4*3**x*log(3))/(2*log(3)**2)\n",
            "F(x)= cos(x)**3/3 - cos(x)\n",
            "F(x)= x**3*log(x)/3 - x**3/9\n"
          ]
        }
      ]
    },
    {
      "cell_type": "code",
      "source": [
        "# Exercise 5-4\n",
        "import sympy as sp\n",
        "x = sp.Symbol('x')\n",
        "\n",
        "# (a)\n",
        "fx = 1/(x*(x+1))\n",
        "print(\"F(x)=\",sp.integrate(fx,x))\n",
        "\n",
        "# (b)\n",
        "fx = (2*x-3)/(x**2-3*x+2)\n",
        "print(\"F(x)=\",sp.integrate(fx,x))\n"
      ],
      "metadata": {
        "colab": {
          "base_uri": "https://localhost:8080/"
        },
        "id": "20F4-JEbusp_",
        "outputId": "7f917477-c1cb-4551-9162-989052bfeec5"
      },
      "execution_count": 18,
      "outputs": [
        {
          "output_type": "stream",
          "name": "stdout",
          "text": [
            "F(x)= log(x) - log(x + 1)\n",
            "F(x)= log(x**2 - 3*x + 2)\n"
          ]
        }
      ]
    },
    {
      "cell_type": "code",
      "source": [
        "# Exercise 5-6\n",
        "import sympy as sp\n",
        "x = sp.Symbol('x')\n",
        "\n",
        "# (a)\n",
        "fx = (sp.exp(2*x)-1)/(sp.exp(x)+1)\n",
        "print(\"The answer is \",sp.integrate(fx,(x,0,2)))\n",
        "\n",
        "# (b)\n",
        "fx = sp.Abs(sp.sin(x))\n",
        "print(\"The answer is \",sp.integrate(fx,(x,-sp.pi,sp.pi)))\n",
        "\n",
        "# (c)\n",
        "fx = x*sp.sqrt(x**2+2)\n",
        "print(\"The answer is \",sp.integrate(fx,(x,1,3)))\n",
        "\n",
        "# (d)\n",
        "fx = sp.exp(x)*sp.sin(x)\n",
        "print(\"The answer is \",sp.integrate(fx,(x,0,sp.pi/2)))\n"
      ],
      "metadata": {
        "colab": {
          "base_uri": "https://localhost:8080/"
        },
        "id": "DRkkT6FTxn_Z",
        "outputId": "1d3611e6-1882-4be3-fc3a-bd93875cc09e"
      },
      "execution_count": 19,
      "outputs": [
        {
          "output_type": "stream",
          "name": "stdout",
          "text": [
            "The answer is  -3 + exp(2)\n",
            "The answer is  4\n",
            "The answer is  -sqrt(3) + 11*sqrt(11)/3\n",
            "The answer is  1/2 + exp(pi/2)/2\n"
          ]
        }
      ]
    },
    {
      "cell_type": "code",
      "source": [
        "# Exercise 5-11\n",
        "import sympy as sp\n",
        "\n",
        "x = sp.Symbol('x')\n",
        "a = sp.Symbol('a')\n",
        "alpha = sp.Symbol('alpha')\n",
        "beta  = sp.Symbol('beta')\n",
        "\n",
        "fx = a*(x-alpha)*(x-beta)\n",
        "print(\"The answer is \", sp.factor(sp.integrate(fx,(x,alpha,beta))))"
      ],
      "metadata": {
        "colab": {
          "base_uri": "https://localhost:8080/"
        },
        "id": "G6iUWnyIxpKH",
        "outputId": "ca20a443-40aa-45f8-bf64-b8b8eb49f456"
      },
      "execution_count": 20,
      "outputs": [
        {
          "output_type": "stream",
          "name": "stdout",
          "text": [
            "The answer is  a*(alpha - beta)**3/6\n"
          ]
        }
      ]
    },
    {
      "cell_type": "code",
      "source": [
        "# Exercise 5-13\n",
        "import sympy as sp\n",
        "\n",
        "x = sp.Symbol('x')\n",
        "\n",
        "fx = sp.sqrt(1-x**2)\n",
        "print(\"The answer is \", sp.integrate(fx,(x,0,1)))"
      ],
      "metadata": {
        "colab": {
          "base_uri": "https://localhost:8080/"
        },
        "id": "trgHchC6xqWy",
        "outputId": "12aaf99f-948d-4c83-a894-558e2c5b7bc8"
      },
      "execution_count": 21,
      "outputs": [
        {
          "output_type": "stream",
          "name": "stdout",
          "text": [
            "The answer is  pi/4\n"
          ]
        }
      ]
    }
  ]
}