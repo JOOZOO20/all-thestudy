{
  "cells": [
    {
      "cell_type": "markdown",
      "metadata": {
        "id": "MusV5YYT6kQF"
      },
      "source": [
        "# 순환 신경망으로 IMDB 리뷰 분류하기"
      ]
    },
    {
      "cell_type": "code",
      "execution_count": 1,
      "metadata": {
        "id": "oBxL32NvSEVb"
      },
      "outputs": [],
      "source": [
        "# 실행마다 동일한 결과를 얻기 위해 케라스에 랜덤 시드를 사용하고 텐서플로 연산을 결정적으로 만듭니다.\n",
        "import tensorflow as tf\n",
        "\n",
        "tf.keras.utils.set_random_seed(42)"
      ]
    },
    {
      "cell_type": "markdown",
      "metadata": {
        "id": "S1A-DDIQ6kQQ"
      },
      "source": [
        "## IMDB 리뷰 데이터셋"
      ]
    },
    {
      "cell_type": "code",
      "execution_count": 2,
      "metadata": {
        "colab": {
          "base_uri": "https://localhost:8080/"
        },
        "id": "sZoZm1ZO6kQR",
        "outputId": "0f6f8589-ee35-4719-dc4a-1a2dfa9f387e"
      },
      "outputs": [
        {
          "output_type": "stream",
          "name": "stdout",
          "text": [
            "Downloading data from https://storage.googleapis.com/tensorflow/tf-keras-datasets/imdb.npz\n",
            "17464789/17464789 [==============================] - 0s 0us/step\n"
          ]
        }
      ],
      "source": [
        "from tensorflow.keras.datasets import imdb\n",
        "\n",
        "(train_input, train_target), (test_input, test_target) = imdb.load_data(num_words=300)"
      ]
    },
    {
      "cell_type": "code",
      "execution_count": 3,
      "metadata": {
        "colab": {
          "base_uri": "https://localhost:8080/"
        },
        "id": "HTFjz6k06kQR",
        "outputId": "d46b1f30-ebf5-4343-9501-57224d29615e"
      },
      "outputs": [
        {
          "output_type": "stream",
          "name": "stdout",
          "text": [
            "(25000,) (25000,)\n"
          ]
        }
      ],
      "source": [
        "print(train_input.shape, test_input.shape)"
      ]
    },
    {
      "cell_type": "code",
      "execution_count": 4,
      "metadata": {
        "colab": {
          "base_uri": "https://localhost:8080/"
        },
        "id": "4jMLURzw6kQS",
        "outputId": "179f3cd3-3220-4f5b-e62f-b222c0d6e47d"
      },
      "outputs": [
        {
          "output_type": "stream",
          "name": "stdout",
          "text": [
            "218\n"
          ]
        }
      ],
      "source": [
        "print(len(train_input[0]))"
      ]
    },
    {
      "cell_type": "code",
      "execution_count": 5,
      "metadata": {
        "colab": {
          "base_uri": "https://localhost:8080/"
        },
        "id": "xdO834PL6kQT",
        "outputId": "784c1f60-7407-4271-f874-587ff6f7be82"
      },
      "outputs": [
        {
          "output_type": "stream",
          "name": "stdout",
          "text": [
            "189\n"
          ]
        }
      ],
      "source": [
        "print(len(train_input[1]))"
      ]
    },
    {
      "cell_type": "code",
      "execution_count": 6,
      "metadata": {
        "colab": {
          "base_uri": "https://localhost:8080/"
        },
        "id": "QNuzGQ2c6kQT",
        "outputId": "532c0f9a-817b-4ccf-e6ee-26856b59f6e2"
      },
      "outputs": [
        {
          "output_type": "stream",
          "name": "stdout",
          "text": [
            "[1, 14, 22, 16, 43, 2, 2, 2, 2, 65, 2, 2, 66, 2, 4, 173, 36, 256, 5, 25, 100, 43, 2, 112, 50, 2, 2, 9, 35, 2, 284, 5, 150, 4, 172, 112, 167, 2, 2, 2, 39, 4, 172, 2, 2, 17, 2, 38, 13, 2, 4, 192, 50, 16, 6, 147, 2, 19, 14, 22, 4, 2, 2, 2, 4, 22, 71, 87, 12, 16, 43, 2, 38, 76, 15, 13, 2, 4, 22, 17, 2, 17, 12, 16, 2, 18, 2, 5, 62, 2, 12, 8, 2, 8, 106, 5, 4, 2, 2, 16, 2, 66, 2, 33, 4, 130, 12, 16, 38, 2, 5, 25, 124, 51, 36, 135, 48, 25, 2, 33, 6, 22, 12, 215, 28, 77, 52, 5, 14, 2, 16, 82, 2, 8, 4, 107, 117, 2, 15, 256, 4, 2, 7, 2, 5, 2, 36, 71, 43, 2, 2, 26, 2, 2, 46, 7, 4, 2, 2, 13, 104, 88, 4, 2, 15, 297, 98, 32, 2, 56, 26, 141, 6, 194, 2, 18, 4, 226, 22, 21, 134, 2, 26, 2, 5, 144, 30, 2, 18, 51, 36, 28, 224, 92, 25, 104, 4, 226, 65, 16, 38, 2, 88, 12, 16, 283, 5, 16, 2, 113, 103, 32, 15, 16, 2, 19, 178, 32]\n"
          ]
        }
      ],
      "source": [
        "print(train_input[0])"
      ]
    },
    {
      "cell_type": "code",
      "execution_count": 7,
      "metadata": {
        "colab": {
          "base_uri": "https://localhost:8080/"
        },
        "id": "In8Qzltz6kQT",
        "outputId": "de656138-d160-4db2-eef7-811783c63c4e"
      },
      "outputs": [
        {
          "output_type": "stream",
          "name": "stdout",
          "text": [
            "[1 0 0 1 0 0 1 0 1 0 1 0 0 0 0 0 1 1 0 1]\n"
          ]
        }
      ],
      "source": [
        "print(train_target[:20])"
      ]
    },
    {
      "cell_type": "code",
      "execution_count": 8,
      "metadata": {
        "id": "0-zjNgBw6kQU"
      },
      "outputs": [],
      "source": [
        "from sklearn.model_selection import train_test_split\n",
        "\n",
        "train_input, val_input, train_target, val_target = train_test_split(\n",
        "    train_input, train_target, test_size=0.2, random_state=42)"
      ]
    },
    {
      "cell_type": "code",
      "execution_count": 9,
      "metadata": {
        "id": "sRVvgntx6kQU"
      },
      "outputs": [],
      "source": [
        "import numpy as np\n",
        "\n",
        "lengths = np.array([len(x) for x in train_input])"
      ]
    },
    {
      "cell_type": "code",
      "execution_count": 10,
      "metadata": {
        "colab": {
          "base_uri": "https://localhost:8080/"
        },
        "id": "p76m_61w6kQU",
        "outputId": "5fa16cff-82d9-4c8c-ea24-bcdfc118300c"
      },
      "outputs": [
        {
          "output_type": "stream",
          "name": "stdout",
          "text": [
            "239.00925 178.0\n"
          ]
        }
      ],
      "source": [
        "print(np.mean(lengths), np.median(lengths))"
      ]
    },
    {
      "cell_type": "code",
      "execution_count": 11,
      "metadata": {
        "colab": {
          "base_uri": "https://localhost:8080/",
          "height": 449
        },
        "id": "TVDrsRYF6kQV",
        "outputId": "3ad7b717-85e7-4fbc-b8fc-8b685a4e2f8a"
      },
      "outputs": [
        {
          "output_type": "display_data",
          "data": {
            "text/plain": [
              "<Figure size 640x480 with 1 Axes>"
            ],
            "image/png": "[encoded data removed]"
          },
          "metadata": {}
        }
      ],
      "source": [
        "import matplotlib.pyplot as plt\n",
        "\n",
        "plt.hist(lengths)\n",
        "plt.xlabel('length')\n",
        "plt.ylabel('frequency')\n",
        "plt.show()"
      ]
    },
    {
      "cell_type": "code",
      "execution_count": 12,
      "metadata": {
        "id": "fbLSFToP6kQV"
      },
      "outputs": [],
      "source": [
        "from tensorflow.keras.preprocessing.sequence import pad_sequences\n",
        "\n",
        "train_seq = pad_sequences(train_input, maxlen=100)"
      ]
    },
    {
      "cell_type": "code",
      "execution_count": 13,
      "metadata": {
        "colab": {
          "base_uri": "https://localhost:8080/"
        },
        "id": "3c86x0Yj6kQV",
        "outputId": "bfb850bf-ca1f-4209-eede-590b3850b729"
      },
      "outputs": [
        {
          "output_type": "stream",
          "name": "stdout",
          "text": [
            "(20000, 100)\n"
          ]
        }
      ],
      "source": [
        "print(train_seq.shape)"
      ]
    },
    {
      "cell_type": "code",
      "execution_count": 14,
      "metadata": {
        "colab": {
          "base_uri": "https://localhost:8080/"
        },
        "id": "JuP0QJaU6kQW",
        "outputId": "2c78795e-3709-47e3-fa94-aa1cce949e80"
      },
      "outputs": [
        {
          "output_type": "stream",
          "name": "stdout",
          "text": [
            "[ 10   4  20   9   2   2   2   5  45   6   2   2  33 269   8   2 142   2\n",
            "   5   2  17  73  17 204   5   2  19  55   2   2  92  66 104  14  20  93\n",
            "  76   2 151  33   4  58  12 188   2 151  12 215  69 224 142  73 237   6\n",
            "   2   7   2   2 188   2 103  14  31  10  10   2   7   2   5   2  80  91\n",
            "   2  30   2  34  14  20 151  50  26 131  49   2  84  46  50  37  80  79\n",
            "   6   2  46   7  14  20  10  10   2 158]\n"
          ]
        }
      ],
      "source": [
        "print(train_seq[0])"
      ]
    },
    {
      "cell_type": "code",
      "execution_count": 15,
      "metadata": {
        "colab": {
          "base_uri": "https://localhost:8080/"
        },
        "id": "6t8kaDji6kQW",
        "outputId": "5cd26306-5165-466d-f1d7-9d1616be813c"
      },
      "outputs": [
        {
          "output_type": "stream",
          "name": "stdout",
          "text": [
            "[6, 2, 46, 7, 14, 20, 10, 10, 2, 158]\n"
          ]
        }
      ],
      "source": [
        "print(train_input[0][-10:])"
      ]
    },
    {
      "cell_type": "code",
      "execution_count": 16,
      "metadata": {
        "colab": {
          "base_uri": "https://localhost:8080/"
        },
        "id": "Emmoztwa6kQX",
        "outputId": "b5f5056c-ae82-4f4b-9e88-afa7410ed9b9",
        "scrolled": true
      },
      "outputs": [
        {
          "output_type": "stream",
          "name": "stdout",
          "text": [
            "[  0   0   0   0   1   2 195  19  49   2   2 190   4   2   2   2 183  10\n",
            "  10  13  82  79   4   2  36  71 269   8   2  25  19  49   7   4   2   2\n",
            "   2   2   2  10  10  48  25  40   2  11   2   2  40   2   2   5   4   2\n",
            "   2  95  14 238  56 129   2  10  10  21   2  94   2   2   2   2  11 190\n",
            "  24   2   2   7  94 205   2  10  10  87   2  34  49   2   7   2   2   2\n",
            "   2   2 290   2  46  48  64  18   4   2]\n"
          ]
        }
      ],
      "source": [
        "print(train_seq[5])"
      ]
    },
    {
      "cell_type": "code",
      "execution_count": 17,
      "metadata": {
        "id": "ZeFmsjOd6kQX"
      },
      "outputs": [],
      "source": [
        "val_seq = pad_sequences(val_input, maxlen=100)"
      ]
    },
    {
      "cell_type": "markdown",
      "metadata": {
        "id": "9xab0nu_6kQX"
      },
      "source": [
        "## 순환 신경망 만들기"
      ]
    },
    {
      "cell_type": "code",
      "execution_count": 27,
      "metadata": {
        "id": "45BtHGKX6kQX"
      },
      "outputs": [],
      "source": [
        "from tensorflow import keras\n",
        "\n",
        "model = keras.Sequential()\n",
        "\n",
        "model.add(keras.layers.SimpleRNN(8, input_shape=(100, 300)))\n",
        "model.add(keras.layers.Dense(1, activation='sigmoid'))"
      ]
    },
    {
      "cell_type": "code",
      "execution_count": 28,
      "metadata": {
        "id": "oXIWyOuw6kQY"
      },
      "outputs": [],
      "source": [
        "train_oh = keras.utils.to_categorical(train_seq)"
      ]
    },
    {
      "cell_type": "code",
      "execution_count": 29,
      "metadata": {
        "colab": {
          "base_uri": "https://localhost:8080/"
        },
        "id": "VD94WiRT6kQY",
        "outputId": "040326aa-3e73-4437-ed45-6e0bd52e3b06"
      },
      "outputs": [
        {
          "output_type": "stream",
          "name": "stdout",
          "text": [
            "(20000, 100, 300)\n"
          ]
        }
      ],
      "source": [
        "print(train_oh.shape)"
      ]
    },
    {
      "cell_type": "code",
      "execution_count": 30,
      "metadata": {
        "colab": {
          "base_uri": "https://localhost:8080/"
        },
        "id": "VIVSHwJg6kQY",
        "outputId": "93581981-fc91-4d5c-e3ae-7f7d0c7e5acb"
      },
      "outputs": [
        {
          "output_type": "stream",
          "name": "stdout",
          "text": [
            "[0. 0. 0. 0. 0. 0. 0. 0. 0. 0. 1. 0.]\n"
          ]
        }
      ],
      "source": [
        "print(train_oh[0][0][:12])"
      ]
    },
    {
      "cell_type": "code",
      "execution_count": 31,
      "metadata": {
        "colab": {
          "base_uri": "https://localhost:8080/"
        },
        "id": "CP3ivii46kQZ",
        "outputId": "468f2976-4177-4b67-d979-a4f9ec05ce03"
      },
      "outputs": [
        {
          "output_type": "stream",
          "name": "stdout",
          "text": [
            "1.0\n"
          ]
        }
      ],
      "source": [
        "print(np.sum(train_oh[0][0]))"
      ]
    },
    {
      "cell_type": "code",
      "execution_count": 32,
      "metadata": {
        "id": "vgijH6m26kQZ"
      },
      "outputs": [],
      "source": [
        "val_oh = keras.utils.to_categorical(val_seq)"
      ]
    },
    {
      "cell_type": "code",
      "execution_count": 33,
      "metadata": {
        "colab": {
          "base_uri": "https://localhost:8080/"
        },
        "id": "0V0Svpuf6kQZ",
        "outputId": "6a37f0aa-d901-4412-f8a1-6cbba96ec56f"
      },
      "outputs": [
        {
          "output_type": "stream",
          "name": "stdout",
          "text": [
            "Model: \"sequential_1\"\n",
            "_________________________________________________________________\n",
            " Layer (type)                Output Shape              Param #   \n",
            "=================================================================\n",
            " simple_rnn_1 (SimpleRNN)    (None, 8)                 2472      \n",
            "                                                                 \n",
            " dense_1 (Dense)             (None, 1)                 9         \n",
            "                                                                 \n",
            "=================================================================\n",
            "Total params: 2481 (9.69 KB)\n",
            "Trainable params: 2481 (9.69 KB)\n",
            "Non-trainable params: 0 (0.00 Byte)\n",
            "_________________________________________________________________\n"
          ]
        }
      ],
      "source": [
        "model.summary()"
      ]
    },
    {
      "cell_type": "markdown",
      "metadata": {
        "id": "S22Hc-7L6kQZ"
      },
      "source": [
        "## 순환 신경망 훈련하기"
      ]
    },
    {
      "cell_type": "code",
      "execution_count": 34,
      "metadata": {
        "colab": {
          "base_uri": "https://localhost:8080/"
        },
        "id": "YcwM299t6kQZ",
        "outputId": "8d8c01b0-4619-4536-f7c8-ece8baa20d32"
      },
      "outputs": [
        {
          "output_type": "stream",
          "name": "stdout",
          "text": [
            "Epoch 1/100\n",
            "313/313 [==============================] - 9s 23ms/step - loss: 0.7065 - accuracy: 0.4954 - val_loss: 0.6996 - val_accuracy: 0.5110\n",
            "Epoch 2/100\n",
            "  8/313 [..............................] - ETA: 5s - loss: 0.6867 - accuracy: 0.5566"
          ]
        },
        {
          "output_type": "stream",
          "name": "stderr",
          "text": [
            "/usr/local/lib/python3.10/dist-packages/keras/src/engine/training.py:3103: UserWarning: You are saving your model as an HDF5 file via `model.save()`. This file format is considered legacy. We recommend using instead the native Keras format, e.g. `model.save('my_model.keras')`.\n",
            "  saving_api.save_model(\n"
          ]
        },
        {
          "output_type": "stream",
          "name": "stdout",
          "text": [
            "313/313 [==============================] - 6s 20ms/step - loss: 0.6984 - accuracy: 0.5078 - val_loss: 0.6949 - val_accuracy: 0.5164\n",
            "Epoch 3/100\n",
            "313/313 [==============================] - 6s 20ms/step - loss: 0.6935 - accuracy: 0.5216 - val_loss: 0.6909 - val_accuracy: 0.5268\n",
            "Epoch 4/100\n",
            "313/313 [==============================] - 6s 20ms/step - loss: 0.6888 - accuracy: 0.5362 - val_loss: 0.6848 - val_accuracy: 0.5492\n",
            "Epoch 5/100\n",
            "313/313 [==============================] - 6s 19ms/step - loss: 0.6800 - accuracy: 0.5648 - val_loss: 0.6723 - val_accuracy: 0.5890\n",
            "Epoch 6/100\n",
            "313/313 [==============================] - 6s 21ms/step - loss: 0.6660 - accuracy: 0.6011 - val_loss: 0.6611 - val_accuracy: 0.6118\n",
            "Epoch 7/100\n",
            "313/313 [==============================] - 6s 20ms/step - loss: 0.6550 - accuracy: 0.6216 - val_loss: 0.6505 - val_accuracy: 0.6316\n",
            "Epoch 8/100\n",
            "313/313 [==============================] - 6s 20ms/step - loss: 0.6446 - accuracy: 0.6421 - val_loss: 0.6421 - val_accuracy: 0.6474\n",
            "Epoch 9/100\n",
            "313/313 [==============================] - 6s 19ms/step - loss: 0.6341 - accuracy: 0.6611 - val_loss: 0.6308 - val_accuracy: 0.6580\n",
            "Epoch 10/100\n",
            "313/313 [==============================] - 6s 20ms/step - loss: 0.6243 - accuracy: 0.6744 - val_loss: 0.6201 - val_accuracy: 0.6804\n",
            "Epoch 11/100\n",
            "313/313 [==============================] - 6s 19ms/step - loss: 0.6139 - accuracy: 0.6877 - val_loss: 0.6135 - val_accuracy: 0.6862\n",
            "Epoch 12/100\n",
            "313/313 [==============================] - 6s 21ms/step - loss: 0.6045 - accuracy: 0.6971 - val_loss: 0.6034 - val_accuracy: 0.6964\n",
            "Epoch 13/100\n",
            "313/313 [==============================] - 6s 19ms/step - loss: 0.5954 - accuracy: 0.7067 - val_loss: 0.5972 - val_accuracy: 0.7016\n",
            "Epoch 14/100\n",
            "313/313 [==============================] - 6s 20ms/step - loss: 0.5870 - accuracy: 0.7132 - val_loss: 0.5894 - val_accuracy: 0.7052\n",
            "Epoch 15/100\n",
            "313/313 [==============================] - 6s 19ms/step - loss: 0.5799 - accuracy: 0.7184 - val_loss: 0.5854 - val_accuracy: 0.7114\n",
            "Epoch 16/100\n",
            "313/313 [==============================] - 6s 19ms/step - loss: 0.5737 - accuracy: 0.7258 - val_loss: 0.5795 - val_accuracy: 0.7158\n",
            "Epoch 17/100\n",
            "313/313 [==============================] - 6s 19ms/step - loss: 0.5678 - accuracy: 0.7287 - val_loss: 0.5731 - val_accuracy: 0.7200\n",
            "Epoch 18/100\n",
            "313/313 [==============================] - 6s 19ms/step - loss: 0.5619 - accuracy: 0.7315 - val_loss: 0.5687 - val_accuracy: 0.7200\n",
            "Epoch 19/100\n",
            "313/313 [==============================] - 6s 19ms/step - loss: 0.5573 - accuracy: 0.7354 - val_loss: 0.5649 - val_accuracy: 0.7202\n",
            "Epoch 20/100\n",
            "313/313 [==============================] - 6s 19ms/step - loss: 0.5518 - accuracy: 0.7392 - val_loss: 0.5605 - val_accuracy: 0.7246\n",
            "Epoch 21/100\n",
            "313/313 [==============================] - 6s 20ms/step - loss: 0.5478 - accuracy: 0.7418 - val_loss: 0.5592 - val_accuracy: 0.7228\n",
            "Epoch 22/100\n",
            "313/313 [==============================] - 6s 20ms/step - loss: 0.5439 - accuracy: 0.7445 - val_loss: 0.5540 - val_accuracy: 0.7288\n",
            "Epoch 23/100\n",
            "313/313 [==============================] - 6s 18ms/step - loss: 0.5407 - accuracy: 0.7461 - val_loss: 0.5524 - val_accuracy: 0.7266\n",
            "Epoch 24/100\n",
            "313/313 [==============================] - 6s 18ms/step - loss: 0.5375 - accuracy: 0.7466 - val_loss: 0.5480 - val_accuracy: 0.7324\n",
            "Epoch 25/100\n",
            "313/313 [==============================] - 6s 19ms/step - loss: 0.5350 - accuracy: 0.7487 - val_loss: 0.5469 - val_accuracy: 0.7324\n",
            "Epoch 26/100\n",
            "313/313 [==============================] - 6s 20ms/step - loss: 0.5320 - accuracy: 0.7516 - val_loss: 0.5456 - val_accuracy: 0.7316\n",
            "Epoch 27/100\n",
            "313/313 [==============================] - 6s 20ms/step - loss: 0.5293 - accuracy: 0.7513 - val_loss: 0.5420 - val_accuracy: 0.7368\n",
            "Epoch 28/100\n",
            "313/313 [==============================] - 6s 20ms/step - loss: 0.5273 - accuracy: 0.7512 - val_loss: 0.5458 - val_accuracy: 0.7296\n",
            "Epoch 29/100\n",
            "313/313 [==============================] - 6s 20ms/step - loss: 0.5253 - accuracy: 0.7546 - val_loss: 0.5434 - val_accuracy: 0.7370\n",
            "Epoch 30/100\n",
            "313/313 [==============================] - 6s 19ms/step - loss: 0.5233 - accuracy: 0.7560 - val_loss: 0.5376 - val_accuracy: 0.7388\n",
            "Epoch 31/100\n",
            "313/313 [==============================] - 6s 20ms/step - loss: 0.5219 - accuracy: 0.7551 - val_loss: 0.5377 - val_accuracy: 0.7370\n",
            "Epoch 32/100\n",
            "313/313 [==============================] - 6s 19ms/step - loss: 0.5203 - accuracy: 0.7574 - val_loss: 0.5380 - val_accuracy: 0.7372\n",
            "Epoch 33/100\n",
            "313/313 [==============================] - 6s 19ms/step - loss: 0.5187 - accuracy: 0.7569 - val_loss: 0.5356 - val_accuracy: 0.7400\n",
            "Epoch 34/100\n",
            "313/313 [==============================] - 6s 19ms/step - loss: 0.5169 - accuracy: 0.7596 - val_loss: 0.5359 - val_accuracy: 0.7416\n",
            "Epoch 35/100\n",
            "313/313 [==============================] - 6s 19ms/step - loss: 0.5159 - accuracy: 0.7584 - val_loss: 0.5351 - val_accuracy: 0.7410\n",
            "Epoch 36/100\n",
            "313/313 [==============================] - 6s 19ms/step - loss: 0.5146 - accuracy: 0.7614 - val_loss: 0.5331 - val_accuracy: 0.7418\n",
            "Epoch 37/100\n",
            "313/313 [==============================] - 6s 19ms/step - loss: 0.5135 - accuracy: 0.7613 - val_loss: 0.5327 - val_accuracy: 0.7428\n",
            "Epoch 38/100\n",
            "313/313 [==============================] - 6s 18ms/step - loss: 0.5120 - accuracy: 0.7611 - val_loss: 0.5338 - val_accuracy: 0.7376\n",
            "Epoch 39/100\n",
            "313/313 [==============================] - 6s 20ms/step - loss: 0.5116 - accuracy: 0.7603 - val_loss: 0.5320 - val_accuracy: 0.7410\n",
            "Epoch 40/100\n",
            "313/313 [==============================] - 6s 19ms/step - loss: 0.5102 - accuracy: 0.7609 - val_loss: 0.5345 - val_accuracy: 0.7388\n",
            "Epoch 41/100\n",
            "313/313 [==============================] - 6s 19ms/step - loss: 0.5094 - accuracy: 0.7620 - val_loss: 0.5299 - val_accuracy: 0.7448\n",
            "Epoch 42/100\n",
            "313/313 [==============================] - 6s 19ms/step - loss: 0.5087 - accuracy: 0.7632 - val_loss: 0.5294 - val_accuracy: 0.7450\n",
            "Epoch 43/100\n",
            "313/313 [==============================] - 6s 19ms/step - loss: 0.5073 - accuracy: 0.7628 - val_loss: 0.5287 - val_accuracy: 0.7458\n",
            "Epoch 44/100\n",
            "313/313 [==============================] - 6s 19ms/step - loss: 0.5070 - accuracy: 0.7636 - val_loss: 0.5283 - val_accuracy: 0.7436\n",
            "Epoch 45/100\n",
            "313/313 [==============================] - 6s 19ms/step - loss: 0.5060 - accuracy: 0.7645 - val_loss: 0.5312 - val_accuracy: 0.7418\n",
            "Epoch 46/100\n",
            "313/313 [==============================] - 6s 18ms/step - loss: 0.5048 - accuracy: 0.7649 - val_loss: 0.5273 - val_accuracy: 0.7456\n",
            "Epoch 47/100\n",
            "313/313 [==============================] - 6s 19ms/step - loss: 0.5040 - accuracy: 0.7649 - val_loss: 0.5273 - val_accuracy: 0.7462\n",
            "Epoch 48/100\n",
            "313/313 [==============================] - 6s 18ms/step - loss: 0.5033 - accuracy: 0.7652 - val_loss: 0.5284 - val_accuracy: 0.7438\n",
            "Epoch 49/100\n",
            "313/313 [==============================] - 6s 19ms/step - loss: 0.5030 - accuracy: 0.7657 - val_loss: 0.5269 - val_accuracy: 0.7440\n",
            "Epoch 50/100\n",
            "313/313 [==============================] - 6s 19ms/step - loss: 0.5023 - accuracy: 0.7661 - val_loss: 0.5263 - val_accuracy: 0.7448\n",
            "Epoch 51/100\n",
            "313/313 [==============================] - 6s 18ms/step - loss: 0.5013 - accuracy: 0.7671 - val_loss: 0.5274 - val_accuracy: 0.7452\n",
            "Epoch 52/100\n",
            "313/313 [==============================] - 6s 19ms/step - loss: 0.5004 - accuracy: 0.7678 - val_loss: 0.5277 - val_accuracy: 0.7456\n",
            "Epoch 53/100\n",
            "313/313 [==============================] - 6s 19ms/step - loss: 0.5002 - accuracy: 0.7682 - val_loss: 0.5296 - val_accuracy: 0.7464\n"
          ]
        }
      ],
      "source": [
        "rmsprop = keras.optimizers.RMSprop(learning_rate=1e-4)\n",
        "model.compile(optimizer=rmsprop, loss='binary_crossentropy',\n",
        "              metrics=['accuracy'])\n",
        "\n",
        "checkpoint_cb = keras.callbacks.ModelCheckpoint('best-simplernn-model.keras.h5',\n",
        "                                                save_best_only=True)\n",
        "early_stopping_cb = keras.callbacks.EarlyStopping(patience=3,\n",
        "                                                  restore_best_weights=True)\n",
        "\n",
        "history = model.fit(train_oh, train_target, epochs=100, batch_size=64,\n",
        "                    validation_data=(val_oh, val_target),\n",
        "                    callbacks=[checkpoint_cb, early_stopping_cb])"
      ]
    },
    {
      "cell_type": "code",
      "execution_count": 35,
      "metadata": {
        "colab": {
          "base_uri": "https://localhost:8080/",
          "height": 449
        },
        "id": "YS_5tIG26kQa",
        "outputId": "263bfe06-8363-45d4-fa4e-4e55cd75baac"
      },
      "outputs": [
        {
          "output_type": "display_data",
          "data": {
            "text/plain": [
              "<Figure size 640x480 with 1 Axes>"
            ],
            "image/png": "[encoded data removed]"
          },
          "metadata": {}
        }
      ],
      "source": [
        "plt.plot(history.history['loss'])\n",
        "plt.plot(history.history['val_loss'])\n",
        "plt.xlabel('epoch')\n",
        "plt.ylabel('loss')\n",
        "plt.legend(['train', 'val'])\n",
        "plt.show()"
      ]
    },
    {
      "cell_type": "code",
      "source": [
        "print(train_seq.nbytes, train_oh.nbytes)"
      ],
      "metadata": {
        "colab": {
          "base_uri": "https://localhost:8080/"
        },
        "id": "JHfxp_DPuRFo",
        "outputId": "875548d7-f742-4025-8936-7a929a638277"
      },
      "execution_count": 36,
      "outputs": [
        {
          "output_type": "stream",
          "name": "stdout",
          "text": [
            "8000000 2400000000\n"
          ]
        }
      ]
    },
    {
      "cell_type": "markdown",
      "metadata": {
        "id": "K_U_lVie6kQa"
      },
      "source": [
        "## 단어 임베딩을 사용하기"
      ]
    },
    {
      "cell_type": "code",
      "execution_count": 37,
      "metadata": {
        "colab": {
          "base_uri": "https://localhost:8080/"
        },
        "id": "Ofl-Ifev6kQa",
        "outputId": "b192ace9-114f-466d-b1b5-e4abfebaaab1"
      },
      "outputs": [
        {
          "output_type": "stream",
          "name": "stdout",
          "text": [
            "Model: \"sequential_2\"\n",
            "_________________________________________________________________\n",
            " Layer (type)                Output Shape              Param #   \n",
            "=================================================================\n",
            " embedding (Embedding)       (None, 100, 16)           4800      \n",
            "                                                                 \n",
            " simple_rnn_2 (SimpleRNN)    (None, 8)                 200       \n",
            "                                                                 \n",
            " dense_2 (Dense)             (None, 1)                 9         \n",
            "                                                                 \n",
            "=================================================================\n",
            "Total params: 5009 (19.57 KB)\n",
            "Trainable params: 5009 (19.57 KB)\n",
            "Non-trainable params: 0 (0.00 Byte)\n",
            "_________________________________________________________________\n"
          ]
        }
      ],
      "source": [
        "model2 = keras.Sequential()\n",
        "\n",
        "model2.add(keras.layers.Embedding(300, 16, input_shape=(100,)))\n",
        "model2.add(keras.layers.SimpleRNN(8))\n",
        "model2.add(keras.layers.Dense(1, activation='sigmoid'))\n",
        "\n",
        "model2.summary()"
      ]
    },
    {
      "cell_type": "code",
      "execution_count": 38,
      "metadata": {
        "colab": {
          "base_uri": "https://localhost:8080/"
        },
        "id": "78TUrJAs6kQa",
        "outputId": "1218b33c-b394-4279-eccd-003be78b7fef"
      },
      "outputs": [
        {
          "output_type": "stream",
          "name": "stdout",
          "text": [
            "Epoch 1/100\n",
            "313/313 [==============================] - 8s 21ms/step - loss: 0.6905 - accuracy: 0.5286 - val_loss: 0.6726 - val_accuracy: 0.5970\n",
            "Epoch 2/100\n",
            "313/313 [==============================] - 6s 20ms/step - loss: 0.6491 - accuracy: 0.6473 - val_loss: 0.6322 - val_accuracy: 0.6750\n",
            "Epoch 3/100\n",
            "313/313 [==============================] - 6s 20ms/step - loss: 0.6150 - accuracy: 0.6906 - val_loss: 0.6017 - val_accuracy: 0.7072\n",
            "Epoch 4/100\n",
            "313/313 [==============================] - 6s 20ms/step - loss: 0.5907 - accuracy: 0.7143 - val_loss: 0.5829 - val_accuracy: 0.7168\n",
            "Epoch 5/100\n",
            "313/313 [==============================] - 6s 19ms/step - loss: 0.5718 - accuracy: 0.7274 - val_loss: 0.5651 - val_accuracy: 0.7356\n",
            "Epoch 6/100\n",
            "313/313 [==============================] - 6s 20ms/step - loss: 0.5570 - accuracy: 0.7376 - val_loss: 0.5540 - val_accuracy: 0.7374\n",
            "Epoch 7/100\n",
            "313/313 [==============================] - 6s 19ms/step - loss: 0.5444 - accuracy: 0.7441 - val_loss: 0.5420 - val_accuracy: 0.7456\n",
            "Epoch 8/100\n",
            "313/313 [==============================] - 6s 21ms/step - loss: 0.5331 - accuracy: 0.7526 - val_loss: 0.5395 - val_accuracy: 0.7428\n",
            "Epoch 9/100\n",
            "313/313 [==============================] - 6s 20ms/step - loss: 0.5250 - accuracy: 0.7555 - val_loss: 0.5343 - val_accuracy: 0.7464\n",
            "Epoch 10/100\n",
            "313/313 [==============================] - 6s 20ms/step - loss: 0.5178 - accuracy: 0.7576 - val_loss: 0.5205 - val_accuracy: 0.7524\n",
            "Epoch 11/100\n",
            "313/313 [==============================] - 6s 20ms/step - loss: 0.5117 - accuracy: 0.7587 - val_loss: 0.5168 - val_accuracy: 0.7542\n",
            "Epoch 12/100\n",
            "313/313 [==============================] - 6s 20ms/step - loss: 0.5064 - accuracy: 0.7637 - val_loss: 0.5170 - val_accuracy: 0.7508\n",
            "Epoch 13/100\n",
            "313/313 [==============================] - 6s 19ms/step - loss: 0.5026 - accuracy: 0.7624 - val_loss: 0.5102 - val_accuracy: 0.7550\n",
            "Epoch 14/100\n",
            "313/313 [==============================] - 6s 20ms/step - loss: 0.4988 - accuracy: 0.7653 - val_loss: 0.5084 - val_accuracy: 0.7568\n",
            "Epoch 15/100\n",
            "313/313 [==============================] - 6s 20ms/step - loss: 0.4959 - accuracy: 0.7679 - val_loss: 0.5248 - val_accuracy: 0.7436\n",
            "Epoch 16/100\n",
            "313/313 [==============================] - 7s 21ms/step - loss: 0.4935 - accuracy: 0.7675 - val_loss: 0.5074 - val_accuracy: 0.7566\n",
            "Epoch 17/100\n",
            "313/313 [==============================] - 6s 20ms/step - loss: 0.4907 - accuracy: 0.7697 - val_loss: 0.5090 - val_accuracy: 0.7566\n",
            "Epoch 18/100\n",
            "313/313 [==============================] - 6s 20ms/step - loss: 0.4890 - accuracy: 0.7702 - val_loss: 0.5027 - val_accuracy: 0.7560\n",
            "Epoch 19/100\n",
            "313/313 [==============================] - 6s 19ms/step - loss: 0.4873 - accuracy: 0.7728 - val_loss: 0.5042 - val_accuracy: 0.7528\n",
            "Epoch 20/100\n",
            "313/313 [==============================] - 6s 18ms/step - loss: 0.4847 - accuracy: 0.7721 - val_loss: 0.5010 - val_accuracy: 0.7578\n",
            "Epoch 21/100\n",
            "313/313 [==============================] - 6s 18ms/step - loss: 0.4839 - accuracy: 0.7724 - val_loss: 0.5050 - val_accuracy: 0.7556\n",
            "Epoch 22/100\n",
            "313/313 [==============================] - 6s 19ms/step - loss: 0.4824 - accuracy: 0.7743 - val_loss: 0.5031 - val_accuracy: 0.7554\n",
            "Epoch 23/100\n",
            "313/313 [==============================] - 6s 19ms/step - loss: 0.4808 - accuracy: 0.7747 - val_loss: 0.5042 - val_accuracy: 0.7558\n"
          ]
        }
      ],
      "source": [
        "rmsprop = keras.optimizers.RMSprop(learning_rate=1e-4)\n",
        "model2.compile(optimizer=rmsprop, loss='binary_crossentropy',\n",
        "               metrics=['accuracy'])\n",
        "\n",
        "# checkpoint_cb = keras.callbacks.ModelCheckpoint('best-embedding-model.keras',\n",
        "#                                                 save_best_only=True)\n",
        "checkpoint_cb = keras.callbacks.ModelCheckpoint('best-embedding-model.h5',\n",
        "                                                save_best_only=True)\n",
        "\n",
        "\n",
        "early_stopping_cb = keras.callbacks.EarlyStopping(patience=3,\n",
        "                                                  restore_best_weights=True)\n",
        "\n",
        "history = model2.fit(train_seq, train_target, epochs=100, batch_size=64,\n",
        "                     validation_data=(val_seq, val_target),\n",
        "                     callbacks=[checkpoint_cb, early_stopping_cb])"
      ]
    },
    {
      "cell_type": "code",
      "execution_count": 39,
      "metadata": {
        "colab": {
          "base_uri": "https://localhost:8080/",
          "height": 453
        },
        "id": "brUvKwLt6kQb",
        "outputId": "c07618b5-9047-42c6-96f7-761c1f7d8965",
        "tags": []
      },
      "outputs": [
        {
          "output_type": "display_data",
          "data": {
            "text/plain": [
              "<Figure size 640x480 with 1 Axes>"
            ],
            "image/png": "[encoded data removed]"
          },
          "metadata": {}
        }
      ],
      "source": [
        "plt.plot(history.history['loss'])\n",
        "plt.plot(history.history['val_loss'])\n",
        "plt.xlabel('epoch')\n",
        "plt.ylabel('loss')\n",
        "plt.legend(['train', 'val'])\n",
        "plt.show()"
      ]
    }
  ],
  "metadata": {
    "accelerator": "TPU",
    "colab": {
      "provenance": [],
      "gpuType": "V28"
    },
    "kernelspec": {
      "display_name": "default:Python",
      "language": "python",
      "name": "conda-env-default-py"
    },
    "language_info": {
      "codemirror_mode": {
        "name": "ipython",
        "version": 3
      },
      "file_extension": ".py",
      "mimetype": "text/x-python",
      "name": "python",
      "nbconvert_exporter": "python",
      "pygments_lexer": "ipython3",
      "version": "3.9.10"
    }
  },
  "nbformat": 4,
  "nbformat_minor": 0
}